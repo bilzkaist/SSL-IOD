{
 "cells": [
  {
   "cell_type": "markdown",
   "metadata": {},
   "source": [
    "# Modules"
   ]
  },
  {
   "cell_type": "code",
   "execution_count": 11,
   "metadata": {},
   "outputs": [
    {
     "name": "stdout",
     "output_type": "stream",
     "text": [
      "The autoreload extension is already loaded. To reload it, use:\n",
      "  %reload_ext autoreload\n"
     ]
    }
   ],
   "source": [
    "%load_ext autoreload\n",
    "%autoreload 2\n",
    "\n",
    "import sys\n",
    "\n",
    "import matplotlib.pyplot as plt\n",
    "import pandas as pd\n",
    "import torch\n",
    "from sklearn import datasets\n",
    "from sklearn.linear_model import LogisticRegression\n",
    "from sklearn.manifold import TSNE\n",
    "from sklearn.metrics import (ConfusionMatrixDisplay, classification_report,\n",
    "                             confusion_matrix)\n",
    "from sklearn.model_selection import train_test_split\n",
    "from sklearn.preprocessing import StandardScaler\n",
    "from torch.optim import Adam\n",
    "from torch.utils.data import DataLoader\n",
    "\n",
    "sys.path.append(\"../\")\n",
    "\n",
    "from scarf.loss import NTXent\n",
    "from scarf.model import SCARF\n",
    "\n",
    "from example.dataset import ExampleDataset\n",
    "from example.utils import dataset_embeddings, fix_seed, train_epoch\n",
    "\n",
    "seed = 1234\n",
    "fix_seed(seed)\n"
   ]
  },
  {
   "cell_type": "markdown",
   "metadata": {},
   "source": [
    "# Data"
   ]
  },
  {
   "cell_type": "code",
   "execution_count": 12,
   "metadata": {},
   "outputs": [],
   "source": [
    "import pandas as pd\n",
    "\n",
    "# Path to the CSV file\n",
    "file_path = \"/home/bilz/Datasets/CIOD/baselineIOD.csv\"\n",
    "\n",
    "# Load the CSV file into a DataFrame\n",
    "df = pd.read_csv(file_path)\n",
    "\n",
    "# Assuming the last column is the target column and the rest are feature columns\n",
    "data = {\n",
    "    'data': df.iloc[:, :-1],  # Select all columns except the last one as features\n",
    "    'target': df.iloc[:, -1]   # Select the last column as target\n",
    "}\n",
    "\n"
   ]
  },
  {
   "cell_type": "code",
   "execution_count": 13,
   "metadata": {},
   "outputs": [
    {
     "name": "stdout",
     "output_type": "stream",
     "text": [
      "Train set: (455, 30)\n",
      "Test set: (114, 30)\n"
     ]
    },
    {
     "data": {
      "text/html": [
       "<div>\n",
       "<style scoped>\n",
       "    .dataframe tbody tr th:only-of-type {\n",
       "        vertical-align: middle;\n",
       "    }\n",
       "\n",
       "    .dataframe tbody tr th {\n",
       "        vertical-align: top;\n",
       "    }\n",
       "\n",
       "    .dataframe thead th {\n",
       "        text-align: right;\n",
       "    }\n",
       "</style>\n",
       "<table border=\"1\" class=\"dataframe\">\n",
       "  <thead>\n",
       "    <tr style=\"text-align: right;\">\n",
       "      <th></th>\n",
       "      <th>mean radius</th>\n",
       "      <th>mean texture</th>\n",
       "      <th>mean perimeter</th>\n",
       "      <th>mean area</th>\n",
       "      <th>mean smoothness</th>\n",
       "      <th>mean compactness</th>\n",
       "      <th>mean concavity</th>\n",
       "      <th>mean concave points</th>\n",
       "      <th>mean symmetry</th>\n",
       "      <th>mean fractal dimension</th>\n",
       "      <th>...</th>\n",
       "      <th>worst radius</th>\n",
       "      <th>worst texture</th>\n",
       "      <th>worst perimeter</th>\n",
       "      <th>worst area</th>\n",
       "      <th>worst smoothness</th>\n",
       "      <th>worst compactness</th>\n",
       "      <th>worst concavity</th>\n",
       "      <th>worst concave points</th>\n",
       "      <th>worst symmetry</th>\n",
       "      <th>worst fractal dimension</th>\n",
       "    </tr>\n",
       "  </thead>\n",
       "  <tbody>\n",
       "    <tr>\n",
       "      <th>0</th>\n",
       "      <td>-0.880353</td>\n",
       "      <td>-1.008502</td>\n",
       "      <td>-0.851600</td>\n",
       "      <td>-0.803450</td>\n",
       "      <td>0.528820</td>\n",
       "      <td>-0.257291</td>\n",
       "      <td>-0.443192</td>\n",
       "      <td>-0.407671</td>\n",
       "      <td>-0.129007</td>\n",
       "      <td>0.896290</td>\n",
       "      <td>...</td>\n",
       "      <td>-0.912743</td>\n",
       "      <td>-0.956058</td>\n",
       "      <td>-0.829103</td>\n",
       "      <td>-0.782999</td>\n",
       "      <td>0.427404</td>\n",
       "      <td>-0.216693</td>\n",
       "      <td>-0.214409</td>\n",
       "      <td>-0.123639</td>\n",
       "      <td>0.672669</td>\n",
       "      <td>0.366357</td>\n",
       "    </tr>\n",
       "    <tr>\n",
       "      <th>1</th>\n",
       "      <td>0.248449</td>\n",
       "      <td>1.482635</td>\n",
       "      <td>0.225824</td>\n",
       "      <td>0.152201</td>\n",
       "      <td>0.462742</td>\n",
       "      <td>-0.130230</td>\n",
       "      <td>0.414654</td>\n",
       "      <td>0.411382</td>\n",
       "      <td>-0.597113</td>\n",
       "      <td>0.266727</td>\n",
       "      <td>...</td>\n",
       "      <td>0.448496</td>\n",
       "      <td>1.198785</td>\n",
       "      <td>0.395258</td>\n",
       "      <td>0.279837</td>\n",
       "      <td>1.500623</td>\n",
       "      <td>-0.122839</td>\n",
       "      <td>0.611302</td>\n",
       "      <td>0.570670</td>\n",
       "      <td>-0.405498</td>\n",
       "      <td>0.563031</td>\n",
       "    </tr>\n",
       "    <tr>\n",
       "      <th>2</th>\n",
       "      <td>-1.345070</td>\n",
       "      <td>0.549036</td>\n",
       "      <td>-1.334836</td>\n",
       "      <td>-1.089839</td>\n",
       "      <td>0.609582</td>\n",
       "      <td>-0.812806</td>\n",
       "      <td>-0.856507</td>\n",
       "      <td>-0.939086</td>\n",
       "      <td>0.774546</td>\n",
       "      <td>0.461423</td>\n",
       "      <td>...</td>\n",
       "      <td>-1.133763</td>\n",
       "      <td>0.878470</td>\n",
       "      <td>-1.154989</td>\n",
       "      <td>-0.923432</td>\n",
       "      <td>0.906361</td>\n",
       "      <td>-0.870453</td>\n",
       "      <td>-1.018594</td>\n",
       "      <td>-1.198201</td>\n",
       "      <td>-0.042221</td>\n",
       "      <td>-0.059954</td>\n",
       "    </tr>\n",
       "    <tr>\n",
       "      <th>3</th>\n",
       "      <td>-0.139050</td>\n",
       "      <td>-0.389184</td>\n",
       "      <td>-0.190352</td>\n",
       "      <td>-0.253539</td>\n",
       "      <td>0.249823</td>\n",
       "      <td>-0.472841</td>\n",
       "      <td>-0.547939</td>\n",
       "      <td>-0.453825</td>\n",
       "      <td>-0.288671</td>\n",
       "      <td>-0.267620</td>\n",
       "      <td>...</td>\n",
       "      <td>-0.284796</td>\n",
       "      <td>-0.368815</td>\n",
       "      <td>-0.355786</td>\n",
       "      <td>-0.353509</td>\n",
       "      <td>-0.543816</td>\n",
       "      <td>-0.772100</td>\n",
       "      <td>-0.480259</td>\n",
       "      <td>-0.381195</td>\n",
       "      <td>-0.632129</td>\n",
       "      <td>-0.798305</td>\n",
       "    </tr>\n",
       "    <tr>\n",
       "      <th>4</th>\n",
       "      <td>1.054334</td>\n",
       "      <td>0.158496</td>\n",
       "      <td>0.884228</td>\n",
       "      <td>0.892295</td>\n",
       "      <td>-0.886724</td>\n",
       "      <td>-0.706354</td>\n",
       "      <td>-0.209267</td>\n",
       "      <td>0.167349</td>\n",
       "      <td>1.151934</td>\n",
       "      <td>-1.778288</td>\n",
       "      <td>...</td>\n",
       "      <td>0.876078</td>\n",
       "      <td>0.326818</td>\n",
       "      <td>0.631622</td>\n",
       "      <td>0.647473</td>\n",
       "      <td>-1.107034</td>\n",
       "      <td>-0.864668</td>\n",
       "      <td>-0.238274</td>\n",
       "      <td>0.045704</td>\n",
       "      <td>3.307260</td>\n",
       "      <td>-1.264719</td>\n",
       "    </tr>\n",
       "  </tbody>\n",
       "</table>\n",
       "<p>5 rows × 30 columns</p>\n",
       "</div>"
      ],
      "text/plain": [
       "   mean radius  mean texture  mean perimeter  mean area  mean smoothness  \\\n",
       "0    -0.880353     -1.008502       -0.851600  -0.803450         0.528820   \n",
       "1     0.248449      1.482635        0.225824   0.152201         0.462742   \n",
       "2    -1.345070      0.549036       -1.334836  -1.089839         0.609582   \n",
       "3    -0.139050     -0.389184       -0.190352  -0.253539         0.249823   \n",
       "4     1.054334      0.158496        0.884228   0.892295        -0.886724   \n",
       "\n",
       "   mean compactness  mean concavity  mean concave points  mean symmetry  \\\n",
       "0         -0.257291       -0.443192            -0.407671      -0.129007   \n",
       "1         -0.130230        0.414654             0.411382      -0.597113   \n",
       "2         -0.812806       -0.856507            -0.939086       0.774546   \n",
       "3         -0.472841       -0.547939            -0.453825      -0.288671   \n",
       "4         -0.706354       -0.209267             0.167349       1.151934   \n",
       "\n",
       "   mean fractal dimension  ...  worst radius  worst texture  worst perimeter  \\\n",
       "0                0.896290  ...     -0.912743      -0.956058        -0.829103   \n",
       "1                0.266727  ...      0.448496       1.198785         0.395258   \n",
       "2                0.461423  ...     -1.133763       0.878470        -1.154989   \n",
       "3               -0.267620  ...     -0.284796      -0.368815        -0.355786   \n",
       "4               -1.778288  ...      0.876078       0.326818         0.631622   \n",
       "\n",
       "   worst area  worst smoothness  worst compactness  worst concavity  \\\n",
       "0   -0.782999          0.427404          -0.216693        -0.214409   \n",
       "1    0.279837          1.500623          -0.122839         0.611302   \n",
       "2   -0.923432          0.906361          -0.870453        -1.018594   \n",
       "3   -0.353509         -0.543816          -0.772100        -0.480259   \n",
       "4    0.647473         -1.107034          -0.864668        -0.238274   \n",
       "\n",
       "   worst concave points  worst symmetry  worst fractal dimension  \n",
       "0             -0.123639        0.672669                 0.366357  \n",
       "1              0.570670       -0.405498                 0.563031  \n",
       "2             -1.198201       -0.042221                -0.059954  \n",
       "3             -0.381195       -0.632129                -0.798305  \n",
       "4              0.045704        3.307260                -1.264719  \n",
       "\n",
       "[5 rows x 30 columns]"
      ]
     },
     "execution_count": 13,
     "metadata": {},
     "output_type": "execute_result"
    }
   ],
   "source": [
    "#data = df  # datasets.load_breast_cancer(as_frame=True)\n",
    "data, target = data[\"data\"], data[\"target\"]\n",
    "train_data, test_data, train_target, test_target = train_test_split(\n",
    "    data,\n",
    "    target,\n",
    "    test_size=0.2,\n",
    "    stratify=target,\n",
    "    random_state=seed\n",
    ")\n",
    "\n",
    "# preprocess\n",
    "constant_cols = [c for c in train_data.columns if train_data[c].nunique() == 1]\n",
    "train_data.drop(columns=constant_cols, inplace=True)\n",
    "test_data.drop(columns=constant_cols, inplace=True)\n",
    "\n",
    "scaler = StandardScaler()\n",
    "train_data = pd.DataFrame(scaler.fit_transform(train_data), columns=train_data.columns)\n",
    "test_data = pd.DataFrame(scaler.transform(test_data), columns=test_data.columns)\n",
    "\n",
    "# to torch dataset\n",
    "train_ds = ExampleDataset(\n",
    "    train_data.to_numpy(),\n",
    "    train_target.to_numpy(),\n",
    "    columns=train_data.columns\n",
    ")\n",
    "test_ds = ExampleDataset(\n",
    "    test_data.to_numpy(),\n",
    "    test_data.to_numpy(),\n",
    "    columns=test_data.columns\n",
    ")\n",
    "\n",
    "print(f\"Train set: {train_ds.shape}\")\n",
    "print(f\"Test set: {test_ds.shape}\")\n",
    "train_ds.to_dataframe().head()"
   ]
  },
  {
   "cell_type": "markdown",
   "metadata": {},
   "source": [
    "# Training"
   ]
  },
  {
   "cell_type": "code",
   "execution_count": 14,
   "metadata": {},
   "outputs": [],
   "source": [
    "import os\n",
    "os.environ['CUDA_LAUNCH_BLOCKING'] = '1'\n"
   ]
  },
  {
   "cell_type": "code",
   "execution_count": 15,
   "metadata": {},
   "outputs": [
    {
     "name": "stdout",
     "output_type": "stream",
     "text": [
      "epoch 100/5000 - loss: 0.0453\n",
      "epoch 200/5000 - loss: 0.0448\n",
      "epoch 300/5000 - loss: 0.0449\n",
      "epoch 400/5000 - loss: 0.0444\n",
      "epoch 500/5000 - loss: 0.0448\n",
      "epoch 600/5000 - loss: 0.0446\n",
      "epoch 700/5000 - loss: 0.0444\n",
      "epoch 800/5000 - loss: 0.0444\n",
      "epoch 900/5000 - loss: 0.0440\n",
      "epoch 1000/5000 - loss: 0.0439\n",
      "epoch 1100/5000 - loss: 0.0441\n",
      "epoch 1200/5000 - loss: 0.0440\n",
      "epoch 1300/5000 - loss: 0.0438\n",
      "epoch 1400/5000 - loss: 0.0438\n",
      "epoch 1500/5000 - loss: 0.0441\n",
      "epoch 1600/5000 - loss: 0.0438\n",
      "epoch 1700/5000 - loss: 0.0438\n",
      "epoch 1800/5000 - loss: 0.0441\n",
      "epoch 1900/5000 - loss: 0.0435\n",
      "epoch 2000/5000 - loss: 0.0439\n",
      "epoch 2100/5000 - loss: 0.0436\n",
      "epoch 2200/5000 - loss: 0.0440\n",
      "epoch 2300/5000 - loss: 0.0438\n",
      "epoch 2400/5000 - loss: 0.0435\n",
      "epoch 2500/5000 - loss: 0.0438\n",
      "epoch 2600/5000 - loss: 0.0434\n",
      "epoch 2700/5000 - loss: 0.0437\n",
      "epoch 2800/5000 - loss: 0.0436\n",
      "epoch 2900/5000 - loss: 0.0439\n",
      "epoch 3000/5000 - loss: 0.0434\n",
      "epoch 3100/5000 - loss: 0.0437\n",
      "epoch 3200/5000 - loss: 0.0437\n",
      "epoch 3300/5000 - loss: 0.0434\n",
      "epoch 3400/5000 - loss: 0.0436\n",
      "epoch 3500/5000 - loss: 0.0433\n",
      "epoch 3600/5000 - loss: 0.0437\n",
      "epoch 3700/5000 - loss: 0.0438\n",
      "epoch 3800/5000 - loss: 0.0436\n",
      "epoch 3900/5000 - loss: 0.0435\n",
      "epoch 4000/5000 - loss: 0.0438\n",
      "epoch 4100/5000 - loss: 0.0434\n",
      "epoch 4200/5000 - loss: 0.0435\n",
      "epoch 4300/5000 - loss: 0.0436\n",
      "epoch 4400/5000 - loss: 0.0436\n",
      "epoch 4500/5000 - loss: 0.0434\n",
      "epoch 4600/5000 - loss: 0.0436\n",
      "epoch 4700/5000 - loss: 0.0434\n",
      "epoch 4800/5000 - loss: 0.0433\n"
     ]
    }
   ],
   "source": [
    "batch_size = 128\n",
    "epochs = 5000\n",
    "device = torch.device(\"cuda\" if torch.cuda.is_available() else \"cpu\")\n",
    "\n",
    "train_loader = DataLoader(train_ds, batch_size=batch_size, shuffle=True)\n",
    "\n",
    "model = SCARF(\n",
    "    input_dim=train_ds.shape[1],\n",
    "    emb_dim=16,\n",
    "    features_low=train_ds.features_low,\n",
    "    features_high=train_ds.features_high,\n",
    "    corruption_rate=0.6,\n",
    "    dropout=0.1\n",
    ").to(device)\n",
    "\n",
    "optimizer = Adam(model.parameters(), lr=0.001, weight_decay=1e-4)\n",
    "ntxent_loss = NTXent()\n",
    "\n",
    "loss_history = []\n",
    "\n",
    "for epoch in range(1, epochs + 1):\n",
    "    epoch_loss = train_epoch(model, ntxent_loss, train_loader, optimizer, device)\n",
    "    loss_history.append(epoch_loss)\n",
    "\n",
    "    if epoch % 100 == 0:\n",
    "        print(f\"epoch {epoch}/{epochs} - loss: {loss_history[-1]:.4f}\")\n"
   ]
  },
  {
   "cell_type": "code",
   "execution_count": null,
   "metadata": {},
   "outputs": [
    {
     "data": {
      "text/plain": [
       "Text(0, 0.5, 'loss')"
      ]
     },
     "execution_count": 18,
     "metadata": {},
     "output_type": "execute_result"
    },
    {
     "data": {
      "image/png": "[encoded data removed]",
      "text/plain": [
       "<Figure size 1000x500 with 1 Axes>"
      ]
     },
     "metadata": {},
     "output_type": "display_data"
    }
   ],
   "source": [
    "fig, ax = plt.subplots(figsize=(10, 5))\n",
    "ax.plot(loss_history)\n",
    "ax.set_xlabel(\"epoch\")\n",
    "ax.set_ylabel(\"loss\")"
   ]
  },
  {
   "cell_type": "markdown",
   "metadata": {},
   "source": [
    "# Evaluate embeddings"
   ]
  },
  {
   "cell_type": "code",
   "execution_count": null,
   "metadata": {},
   "outputs": [
    {
     "name": "stderr",
     "output_type": "stream",
     "text": [
      "  0%|          | 0/4 [00:00<?, ?it/s]\n"
     ]
    },
    {
     "ename": "RuntimeError",
     "evalue": "CUDA error: no kernel image is available for execution on the device",
     "output_type": "error",
     "traceback": [
      "\u001b[0;31m---------------------------------------------------------------------------\u001b[0m",
      "\u001b[0;31mRuntimeError\u001b[0m                              Traceback (most recent call last)",
      "Cell \u001b[0;32mIn[19], line 5\u001b[0m\n\u001b[1;32m      2\u001b[0m test_loader \u001b[38;5;241m=\u001b[39m DataLoader(test_ds, batch_size\u001b[38;5;241m=\u001b[39mbatch_size, shuffle\u001b[38;5;241m=\u001b[39m\u001b[38;5;28;01mFalse\u001b[39;00m)\n\u001b[1;32m      4\u001b[0m \u001b[38;5;66;03m# get embeddings for training and test set\u001b[39;00m\n\u001b[0;32m----> 5\u001b[0m train_embeddings \u001b[38;5;241m=\u001b[39m \u001b[43mdataset_embeddings\u001b[49m\u001b[43m(\u001b[49m\u001b[43mmodel\u001b[49m\u001b[43m,\u001b[49m\u001b[43m \u001b[49m\u001b[43mtrain_loader\u001b[49m\u001b[43m,\u001b[49m\u001b[43m \u001b[49m\u001b[43mdevice\u001b[49m\u001b[43m)\u001b[49m\n\u001b[1;32m      6\u001b[0m test_embeddings \u001b[38;5;241m=\u001b[39m dataset_embeddings(model, test_loader, device)\n\u001b[1;32m      8\u001b[0m \u001b[38;5;28mprint\u001b[39m(train_embeddings\u001b[38;5;241m.\u001b[39mshape)\n",
      "File \u001b[0;32m~/ws/SSL-IOD/example/../example/utils.py:39\u001b[0m, in \u001b[0;36mdataset_embeddings\u001b[0;34m(model, loader, device)\u001b[0m\n\u001b[1;32m     37\u001b[0m \u001b[38;5;28;01mfor\u001b[39;00m x \u001b[38;5;129;01min\u001b[39;00m tqdm(loader):\n\u001b[1;32m     38\u001b[0m     x \u001b[38;5;241m=\u001b[39m x\u001b[38;5;241m.\u001b[39mto(device)\n\u001b[0;32m---> 39\u001b[0m     embeddings\u001b[38;5;241m.\u001b[39mappend(\u001b[43mmodel\u001b[49m\u001b[38;5;241;43m.\u001b[39;49m\u001b[43mget_embeddings\u001b[49m\u001b[43m(\u001b[49m\u001b[43mx\u001b[49m\u001b[43m)\u001b[49m)\n\u001b[1;32m     41\u001b[0m embeddings \u001b[38;5;241m=\u001b[39m torch\u001b[38;5;241m.\u001b[39mcat(embeddings)\u001b[38;5;241m.\u001b[39mcpu()\u001b[38;5;241m.\u001b[39mnumpy()\n\u001b[1;32m     43\u001b[0m \u001b[38;5;28;01mreturn\u001b[39;00m embeddings\n",
      "File \u001b[0;32m~/miniconda3/envs/pt/lib/python3.10/site-packages/torch/autograd/grad_mode.py:27\u001b[0m, in \u001b[0;36m_DecoratorContextManager.__call__.<locals>.decorate_context\u001b[0;34m(*args, **kwargs)\u001b[0m\n\u001b[1;32m     24\u001b[0m \u001b[38;5;129m@functools\u001b[39m\u001b[38;5;241m.\u001b[39mwraps(func)\n\u001b[1;32m     25\u001b[0m \u001b[38;5;28;01mdef\u001b[39;00m \u001b[38;5;21mdecorate_context\u001b[39m(\u001b[38;5;241m*\u001b[39margs, \u001b[38;5;241m*\u001b[39m\u001b[38;5;241m*\u001b[39mkwargs):\n\u001b[1;32m     26\u001b[0m     \u001b[38;5;28;01mwith\u001b[39;00m \u001b[38;5;28mself\u001b[39m\u001b[38;5;241m.\u001b[39mclone():\n\u001b[0;32m---> 27\u001b[0m         \u001b[38;5;28;01mreturn\u001b[39;00m \u001b[43mfunc\u001b[49m\u001b[43m(\u001b[49m\u001b[38;5;241;43m*\u001b[39;49m\u001b[43margs\u001b[49m\u001b[43m,\u001b[49m\u001b[43m \u001b[49m\u001b[38;5;241;43m*\u001b[39;49m\u001b[38;5;241;43m*\u001b[39;49m\u001b[43mkwargs\u001b[49m\u001b[43m)\u001b[49m\n",
      "File \u001b[0;32m~/ws/SSL-IOD/example/../scarf/model.py:69\u001b[0m, in \u001b[0;36mSCARF.get_embeddings\u001b[0;34m(self, x)\u001b[0m\n\u001b[1;32m     67\u001b[0m \u001b[38;5;129m@torch\u001b[39m\u001b[38;5;241m.\u001b[39minference_mode()\n\u001b[1;32m     68\u001b[0m \u001b[38;5;28;01mdef\u001b[39;00m \u001b[38;5;21mget_embeddings\u001b[39m(\u001b[38;5;28mself\u001b[39m, x):\n\u001b[0;32m---> 69\u001b[0m     \u001b[38;5;28;01mreturn\u001b[39;00m \u001b[38;5;28;43mself\u001b[39;49m\u001b[38;5;241;43m.\u001b[39;49m\u001b[43mencoder\u001b[49m\u001b[43m(\u001b[49m\u001b[43mx\u001b[49m\u001b[43m)\u001b[49m\n",
      "File \u001b[0;32m~/miniconda3/envs/pt/lib/python3.10/site-packages/torch/nn/modules/module.py:1130\u001b[0m, in \u001b[0;36mModule._call_impl\u001b[0;34m(self, *input, **kwargs)\u001b[0m\n\u001b[1;32m   1126\u001b[0m \u001b[38;5;66;03m# If we don't have any hooks, we want to skip the rest of the logic in\u001b[39;00m\n\u001b[1;32m   1127\u001b[0m \u001b[38;5;66;03m# this function, and just call forward.\u001b[39;00m\n\u001b[1;32m   1128\u001b[0m \u001b[38;5;28;01mif\u001b[39;00m \u001b[38;5;129;01mnot\u001b[39;00m (\u001b[38;5;28mself\u001b[39m\u001b[38;5;241m.\u001b[39m_backward_hooks \u001b[38;5;129;01mor\u001b[39;00m \u001b[38;5;28mself\u001b[39m\u001b[38;5;241m.\u001b[39m_forward_hooks \u001b[38;5;129;01mor\u001b[39;00m \u001b[38;5;28mself\u001b[39m\u001b[38;5;241m.\u001b[39m_forward_pre_hooks \u001b[38;5;129;01mor\u001b[39;00m _global_backward_hooks\n\u001b[1;32m   1129\u001b[0m         \u001b[38;5;129;01mor\u001b[39;00m _global_forward_hooks \u001b[38;5;129;01mor\u001b[39;00m _global_forward_pre_hooks):\n\u001b[0;32m-> 1130\u001b[0m     \u001b[38;5;28;01mreturn\u001b[39;00m \u001b[43mforward_call\u001b[49m\u001b[43m(\u001b[49m\u001b[38;5;241;43m*\u001b[39;49m\u001b[38;5;28;43minput\u001b[39;49m\u001b[43m,\u001b[49m\u001b[43m \u001b[49m\u001b[38;5;241;43m*\u001b[39;49m\u001b[38;5;241;43m*\u001b[39;49m\u001b[43mkwargs\u001b[49m\u001b[43m)\u001b[49m\n\u001b[1;32m   1131\u001b[0m \u001b[38;5;66;03m# Do not call functions when jit is used\u001b[39;00m\n\u001b[1;32m   1132\u001b[0m full_backward_hooks, non_full_backward_hooks \u001b[38;5;241m=\u001b[39m [], []\n",
      "File \u001b[0;32m~/miniconda3/envs/pt/lib/python3.10/site-packages/torch/nn/modules/container.py:139\u001b[0m, in \u001b[0;36mSequential.forward\u001b[0;34m(self, input)\u001b[0m\n\u001b[1;32m    137\u001b[0m \u001b[38;5;28;01mdef\u001b[39;00m \u001b[38;5;21mforward\u001b[39m(\u001b[38;5;28mself\u001b[39m, \u001b[38;5;28minput\u001b[39m):\n\u001b[1;32m    138\u001b[0m     \u001b[38;5;28;01mfor\u001b[39;00m module \u001b[38;5;129;01min\u001b[39;00m \u001b[38;5;28mself\u001b[39m:\n\u001b[0;32m--> 139\u001b[0m         \u001b[38;5;28minput\u001b[39m \u001b[38;5;241m=\u001b[39m \u001b[43mmodule\u001b[49m\u001b[43m(\u001b[49m\u001b[38;5;28;43minput\u001b[39;49m\u001b[43m)\u001b[49m\n\u001b[1;32m    140\u001b[0m     \u001b[38;5;28;01mreturn\u001b[39;00m \u001b[38;5;28minput\u001b[39m\n",
      "File \u001b[0;32m~/miniconda3/envs/pt/lib/python3.10/site-packages/torch/nn/modules/module.py:1130\u001b[0m, in \u001b[0;36mModule._call_impl\u001b[0;34m(self, *input, **kwargs)\u001b[0m\n\u001b[1;32m   1126\u001b[0m \u001b[38;5;66;03m# If we don't have any hooks, we want to skip the rest of the logic in\u001b[39;00m\n\u001b[1;32m   1127\u001b[0m \u001b[38;5;66;03m# this function, and just call forward.\u001b[39;00m\n\u001b[1;32m   1128\u001b[0m \u001b[38;5;28;01mif\u001b[39;00m \u001b[38;5;129;01mnot\u001b[39;00m (\u001b[38;5;28mself\u001b[39m\u001b[38;5;241m.\u001b[39m_backward_hooks \u001b[38;5;129;01mor\u001b[39;00m \u001b[38;5;28mself\u001b[39m\u001b[38;5;241m.\u001b[39m_forward_hooks \u001b[38;5;129;01mor\u001b[39;00m \u001b[38;5;28mself\u001b[39m\u001b[38;5;241m.\u001b[39m_forward_pre_hooks \u001b[38;5;129;01mor\u001b[39;00m _global_backward_hooks\n\u001b[1;32m   1129\u001b[0m         \u001b[38;5;129;01mor\u001b[39;00m _global_forward_hooks \u001b[38;5;129;01mor\u001b[39;00m _global_forward_pre_hooks):\n\u001b[0;32m-> 1130\u001b[0m     \u001b[38;5;28;01mreturn\u001b[39;00m \u001b[43mforward_call\u001b[49m\u001b[43m(\u001b[49m\u001b[38;5;241;43m*\u001b[39;49m\u001b[38;5;28;43minput\u001b[39;49m\u001b[43m,\u001b[49m\u001b[43m \u001b[49m\u001b[38;5;241;43m*\u001b[39;49m\u001b[38;5;241;43m*\u001b[39;49m\u001b[43mkwargs\u001b[49m\u001b[43m)\u001b[49m\n\u001b[1;32m   1131\u001b[0m \u001b[38;5;66;03m# Do not call functions when jit is used\u001b[39;00m\n\u001b[1;32m   1132\u001b[0m full_backward_hooks, non_full_backward_hooks \u001b[38;5;241m=\u001b[39m [], []\n",
      "File \u001b[0;32m~/miniconda3/envs/pt/lib/python3.10/site-packages/torch/nn/modules/linear.py:114\u001b[0m, in \u001b[0;36mLinear.forward\u001b[0;34m(self, input)\u001b[0m\n\u001b[1;32m    113\u001b[0m \u001b[38;5;28;01mdef\u001b[39;00m \u001b[38;5;21mforward\u001b[39m(\u001b[38;5;28mself\u001b[39m, \u001b[38;5;28minput\u001b[39m: Tensor) \u001b[38;5;241m-\u001b[39m\u001b[38;5;241m>\u001b[39m Tensor:\n\u001b[0;32m--> 114\u001b[0m     \u001b[38;5;28;01mreturn\u001b[39;00m \u001b[43mF\u001b[49m\u001b[38;5;241;43m.\u001b[39;49m\u001b[43mlinear\u001b[49m\u001b[43m(\u001b[49m\u001b[38;5;28;43minput\u001b[39;49m\u001b[43m,\u001b[49m\u001b[43m \u001b[49m\u001b[38;5;28;43mself\u001b[39;49m\u001b[38;5;241;43m.\u001b[39;49m\u001b[43mweight\u001b[49m\u001b[43m,\u001b[49m\u001b[43m \u001b[49m\u001b[38;5;28;43mself\u001b[39;49m\u001b[38;5;241;43m.\u001b[39;49m\u001b[43mbias\u001b[49m\u001b[43m)\u001b[49m\n",
      "\u001b[0;31mRuntimeError\u001b[0m: CUDA error: no kernel image is available for execution on the device"
     ]
    }
   ],
   "source": [
    "train_loader = DataLoader(train_ds, batch_size=batch_size, shuffle=False)\n",
    "test_loader = DataLoader(test_ds, batch_size=batch_size, shuffle=False)\n",
    "\n",
    "# get embeddings for training and test set\n",
    "train_embeddings = dataset_embeddings(model, train_loader, device)\n",
    "test_embeddings = dataset_embeddings(model, test_loader, device)\n",
    "\n",
    "print(train_embeddings.shape)\n",
    "print(test_embeddings.shape)"
   ]
  },
  {
   "cell_type": "code",
   "execution_count": null,
   "metadata": {},
   "outputs": [
    {
     "name": "stdout",
     "output_type": "stream",
     "text": [
      "              precision    recall  f1-score   support\n",
      "\n",
      "           0       0.98      0.98      0.98        42\n",
      "           1       0.99      0.99      0.99        72\n",
      "\n",
      "    accuracy                           0.98       114\n",
      "   macro avg       0.98      0.98      0.98       114\n",
      "weighted avg       0.98      0.98      0.98       114\n",
      "\n"
     ]
    },
    {
     "data": {
      "text/plain": [
       "<sklearn.metrics._plot.confusion_matrix.ConfusionMatrixDisplay at 0x2479cd22450>"
      ]
     },
     "execution_count": 43,
     "metadata": {},
     "output_type": "execute_result"
    },
    {
     "data": {
      "image/png": "[encoded data removed]",
      "text/plain": [
       "<Figure size 500x500 with 2 Axes>"
      ]
     },
     "metadata": {},
     "output_type": "display_data"
    }
   ],
   "source": [
    "clf = LogisticRegression()\n",
    "\n",
    "# vanilla dataset: train the classifier on the original data\n",
    "clf.fit(train_data, train_target)\n",
    "vanilla_predictions = clf.predict(test_data)\n",
    "\n",
    "print(classification_report(test_target, vanilla_predictions))\n",
    "cm = confusion_matrix(test_target, vanilla_predictions)\n",
    "disp = ConfusionMatrixDisplay(confusion_matrix=cm)\n",
    "\n",
    "fig, ax = plt.subplots(figsize=(5, 5))\n",
    "disp.plot(ax=ax)"
   ]
  },
  {
   "cell_type": "code",
   "execution_count": null,
   "metadata": {},
   "outputs": [
    {
     "name": "stdout",
     "output_type": "stream",
     "text": [
      "              precision    recall  f1-score   support\n",
      "\n",
      "           0       0.93      0.88      0.90        42\n",
      "           1       0.93      0.96      0.95        72\n",
      "\n",
      "    accuracy                           0.93       114\n",
      "   macro avg       0.93      0.92      0.92       114\n",
      "weighted avg       0.93      0.93      0.93       114\n",
      "\n"
     ]
    },
    {
     "data": {
      "text/plain": [
       "<sklearn.metrics._plot.confusion_matrix.ConfusionMatrixDisplay at 0x2479534fe90>"
      ]
     },
     "execution_count": 44,
     "metadata": {},
     "output_type": "execute_result"
    },
    {
     "data": {
      "image/png": "[encoded data removed]",
      "text/plain": [
       "<Figure size 500x500 with 2 Axes>"
      ]
     },
     "metadata": {},
     "output_type": "display_data"
    }
   ],
   "source": [
    "# embeddings dataset: train the classifier on the embeddings\n",
    "clf.fit(train_embeddings, train_target)\n",
    "vanilla_predictions = clf.predict(test_embeddings)\n",
    "\n",
    "print(classification_report(test_target, vanilla_predictions))\n",
    "cm = confusion_matrix(test_target, vanilla_predictions)\n",
    "disp = ConfusionMatrixDisplay(confusion_matrix=cm)\n",
    "\n",
    "fig, ax = plt.subplots(figsize=(5, 5))\n",
    "disp.plot(ax=ax)"
   ]
  },
  {
   "cell_type": "markdown",
   "metadata": {},
   "source": [
    "# Visualzie using t-sne "
   ]
  },
  {
   "cell_type": "code",
   "execution_count": null,
   "metadata": {},
   "outputs": [
    {
     "data": {
      "text/plain": [
       "<matplotlib.legend.Legend at 0x247b205eed0>"
      ]
     },
     "execution_count": 45,
     "metadata": {},
     "output_type": "execute_result"
    },
    {
     "data": {
      "image/png": "[encoded data removed]",
      "text/plain": [
       "<Figure size 500x500 with 1 Axes>"
      ]
     },
     "metadata": {},
     "output_type": "display_data"
    }
   ],
   "source": [
    "tsne = TSNE(n_components=2)\n",
    "reduced = tsne.fit_transform(train_embeddings)\n",
    "positive = train_target == 1\n",
    "\n",
    "fig, ax = plt.subplots(figsize=(5, 5))\n",
    "\n",
    "ax.scatter(reduced[positive, 0], reduced[positive, 1], label=\"positive\")\n",
    "ax.scatter(reduced[~positive, 0], reduced[~positive, 1], label=\"negative\")\n",
    "plt.legend()"
   ]
  },
  {
   "cell_type": "code",
   "execution_count": null,
   "metadata": {},
   "outputs": [],
   "source": []
  }
 ],
 "metadata": {
  "kernelspec": {
   "display_name": "Python 3.10.5 ('scarf')",
   "language": "python",
   "name": "python3"
  },
  "language_info": {
   "codemirror_mode": {
    "name": "ipython",
    "version": 3
   },
   "file_extension": ".py",
   "mimetype": "text/x-python",
   "name": "python",
   "nbconvert_exporter": "python",
   "pygments_lexer": "ipython3",
   "version": "3.10.13"
  },
  "orig_nbformat": 4,
  "vscode": {
   "interpreter": {
    "hash": "c6f9f5a3811a03e662921c74ed1d00f88796bf20e69187cb766d7acffcc397b8"
   }
  }
 },
 "nbformat": 4,
 "nbformat_minor": 2
}
